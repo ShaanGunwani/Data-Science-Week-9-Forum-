{
  "nbformat": 4,
  "nbformat_minor": 0,
  "metadata": {
    "colab": {
      "provenance": [],
      "authorship_tag": "ABX9TyNTxJ87GRwt93RreKfXdHyr",
      "include_colab_link": true
    },
    "kernelspec": {
      "name": "python3",
      "display_name": "Python 3"
    },
    "language_info": {
      "name": "python"
    }
  },
  "cells": [
    {
      "cell_type": "markdown",
      "metadata": {
        "id": "view-in-github",
        "colab_type": "text"
      },
      "source": [
        "<a href=\"https://colab.research.google.com/github/ShaanGunwani/Data-Science-Week-9-Forum-/blob/main/Shaan_Week_9_Forum_Data_Science.ipynb\" target=\"_parent\"><img src=\"https://colab.research.google.com/assets/colab-badge.svg\" alt=\"Open In Colab\"/></a>"
      ]
    },
    {
      "cell_type": "code",
      "execution_count": 1,
      "metadata": {
        "id": "01hVHlK5Mj7n"
      },
      "outputs": [],
      "source": [
        "from sklearn.model_selection import train_test_split\n",
        "from sklearn.metrics import davies_bouldin_score\n",
        "from sklearn.metrics import silhouette_score\n",
        "from sklearn.metrics import adjusted_rand_score\n",
        "from sklearn.metrics import calinski_harabasz_score\n",
        "import pandas as pd\n",
        "import numpy as np"
      ]
    },
    {
      "cell_type": "code",
      "source": [
        "from sklearn.datasets import load_iris\n",
        "\n",
        "iris = load_iris()\n",
        "\n",
        "\n",
        "iris_df = pd.DataFrame(data=iris.data, columns=iris.feature_names)\n",
        "\n",
        "\n",
        "iris_df['target'] = iris.target\n",
        "\n",
        "\n",
        "true_labels = iris.target\n",
        "\n",
        "\n",
        "print(iris_df.head())"
      ],
      "metadata": {
        "colab": {
          "base_uri": "https://localhost:8080/"
        },
        "id": "LHY6jj8zMpS6",
        "outputId": "d48f1b4f-0ed0-4400-b812-06306514ff1a"
      },
      "execution_count": 7,
      "outputs": [
        {
          "output_type": "stream",
          "name": "stdout",
          "text": [
            "   sepal length (cm)  sepal width (cm)  petal length (cm)  petal width (cm)  \\\n",
            "0                5.1               3.5                1.4               0.2   \n",
            "1                4.9               3.0                1.4               0.2   \n",
            "2                4.7               3.2                1.3               0.2   \n",
            "3                4.6               3.1                1.5               0.2   \n",
            "4                5.0               3.6                1.4               0.2   \n",
            "\n",
            "   target  \n",
            "0       0  \n",
            "1       0  \n",
            "2       0  \n",
            "3       0  \n",
            "4       0  \n"
          ]
        }
      ]
    },
    {
      "cell_type": "code",
      "source": [
        "# Using KMean and Silhoutte score\n",
        "from sklearn.cluster import KMeans\n",
        "\n",
        "\n",
        "kmeans = KMeans(n_clusters = 3, random_state = 20, n_init = \"auto\").fit(iris_df)\n",
        "\n",
        "\n",
        "kmeans_labels = kmeans.labels_\n",
        "\n",
        "\n",
        "silhouette_avg1 = silhouette_score(iris_df, kmeans_labels)\n",
        "\n",
        "\n",
        "iris_score1 = davies_bouldin_score(iris_df, kmeans_labels)\n",
        "\n",
        "\n",
        "rand_score1 = adjusted_rand_score(true_labels, kmeans_labels)\n",
        "\n",
        "\n",
        "ch_score1 = calinski_harabasz_score(iris_df, kmeans_labels)\n",
        "\n",
        "print(\"KMean\")\n",
        "print(\"Silhouette Score:\", silhouette_avg1)\n",
        "print(\"Davies-Bouldin Index:\", iris_score1)\n",
        "print(\"Rand Score:\", rand_score1)\n",
        "print(\"Calinski and Harabasz Score:\", ch_score1)"
      ],
      "metadata": {
        "colab": {
          "base_uri": "https://localhost:8080/"
        },
        "id": "4in_vys3NB56",
        "outputId": "2d32ed72-7641-4013-c378-26cfbaec17a3"
      },
      "execution_count": 3,
      "outputs": [
        {
          "output_type": "stream",
          "name": "stdout",
          "text": [
            "KMean\n",
            "Silhouette Score: 0.5818972375239817\n",
            "Davies-Bouldin Index: 0.6448641393738762\n",
            "Rand Score: 0.97993200471804\n",
            "Calinski and Harabasz Score: 584.9536309233761\n"
          ]
        }
      ]
    },
    {
      "cell_type": "code",
      "source": [
        "from sklearn.cluster import MeanShift\n",
        "\n",
        "mean_shift = MeanShift().fit(iris_df)\n",
        "\n",
        "mean_shift_labels = mean_shift.labels_\n",
        "\n",
        "silhouette_avg2 = silhouette_score(iris_df, mean_shift_labels)\n",
        "\n",
        "dbi_score2 = davies_bouldin_score(iris_df, mean_shift_labels)\n",
        "\n",
        "rand_score2 = adjusted_rand_score(true_labels, mean_shift_labels)\n",
        "\n",
        "\n",
        "ch_score2 = calinski_harabasz_score(iris_df, mean_shift_labels)\n",
        "\n",
        "print(\"Mean shift\")\n",
        "print(\"Silhouette Score:\", silhouette_avg2)\n",
        "print(\"Davies-Bouldin Index:\", dbi_score2)\n",
        "print(\"Rand Score:\", rand_score2)\n",
        "print(\"Calinski and Harabasz Score:\", ch_score2)\n"
      ],
      "metadata": {
        "colab": {
          "base_uri": "https://localhost:8080/"
        },
        "id": "elB2Uh4GNXQH",
        "outputId": "f3122372-2a58-47a7-a267-33a26a5ab2e1"
      },
      "execution_count": 9,
      "outputs": [
        {
          "output_type": "stream",
          "name": "stdout",
          "text": [
            "Mean shift\n",
            "Silhouette Score: 0.6800825549093847\n",
            "Davies-Bouldin Index: 0.398126654081169\n",
            "Rand Score: 0.5583714437541352\n",
            "Calinski and Harabasz Score: 497.8561003637067\n"
          ]
        }
      ]
    },
    {
      "cell_type": "code",
      "source": [
        "\n",
        "from sklearn.cluster import AgglomerativeClustering\n",
        "\n",
        "agglomerative_clustering = AgglomerativeClustering(n_clusters = 3).fit(iris_df)\n",
        "\n",
        "agglomerative_labels = agglomerative_clustering.labels_\n",
        "\n",
        "\n",
        "silhouette_avg3 = silhouette_score(iris_df, agglomerative_labels)\n",
        "\n",
        "\n",
        "dbi_score3 = davies_bouldin_score(iris_df, agglomerative_labels)\n",
        "\n",
        "\n",
        "rand_score3 = adjusted_rand_score(true_labels, agglomerative_labels)\n",
        "\n",
        "\n",
        "ch_score3 = calinski_harabasz_score(iris_df, agglomerative_labels)\n",
        "\n",
        "print(\"Agglomerative clustering\")\n",
        "print(\"Silhouette Score:\", silhouette_avg3)\n",
        "print(\"Davies-Bouldin Index:\", dbi_score3)\n",
        "print(\"Rand Score:\", rand_score3)\n",
        "print(\"Calinski and Harabasz Score:\", ch_score3)"
      ],
      "metadata": {
        "colab": {
          "base_uri": "https://localhost:8080/"
        },
        "id": "FqcFp5kxPXj4",
        "outputId": "71f4f065-d873-4537-a5a0-a6217c768060"
      },
      "execution_count": 10,
      "outputs": [
        {
          "output_type": "stream",
          "name": "stdout",
          "text": [
            "Agglomerative clustering\n",
            "Silhouette Score: 0.5782157637460459\n",
            "Davies-Bouldin Index: 0.6522266467240291\n",
            "Rand Score: 1.0\n",
            "Calinski and Harabasz Score: 569.640103743222\n"
          ]
        }
      ]
    },
    {
      "cell_type": "code",
      "source": [
        "from sklearn.cluster import SpectralClustering\n",
        "\n",
        "spectral_clustering = SpectralClustering(n_clusters = 3,random_state = 20).fit(iris_df)\n",
        "\n",
        "spectral_labels = spectral_clustering.labels_\n",
        "\n",
        "silhouette_avg4 = silhouette_score(iris_df, spectral_labels)\n",
        "\n",
        "\n",
        "dbi_score4 = davies_bouldin_score(iris_df, spectral_labels)\n",
        "\n",
        "rand_score4 = adjusted_rand_score(true_labels, spectral_labels)\n",
        "\n",
        "\n",
        "ch_score4 = calinski_harabasz_score(iris_df, spectral_labels)\n",
        "\n",
        "print(\"Spectral clustering\")\n",
        "print(\"Silhouette Score:\", silhouette_avg4)\n",
        "print(\"Davies-Bouldin Index:\", dbi_score4)\n",
        "print(\"Rand Score:\", rand_score4)\n",
        "print(\"Calinski and Harabasz Score:\", ch_score4)"
      ],
      "metadata": {
        "colab": {
          "base_uri": "https://localhost:8080/"
        },
        "id": "Ti8leuvSQN-d",
        "outputId": "bc44fcd9-eb4c-4b3a-859b-d3773cdc4925"
      },
      "execution_count": 11,
      "outputs": [
        {
          "output_type": "stream",
          "name": "stdout",
          "text": [
            "Spectral clustering\n",
            "Silhouette Score: 0.5818972375239817\n",
            "Davies-Bouldin Index: 0.6448641393738762\n",
            "Rand Score: 0.97993200471804\n",
            "Calinski and Harabasz Score: 584.9536309233761\n"
          ]
        }
      ]
    }
  ]
}